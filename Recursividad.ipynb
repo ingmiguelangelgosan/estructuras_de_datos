{
 "cells": [
  {
   "cell_type": "markdown",
   "metadata": {},
   "source": [
    "### RECURSIVIDAD"
   ]
  },
  {
   "cell_type": "markdown",
   "metadata": {},
   "source": [
    "La recursividad es un método para resolver problemas descomponiendo dicho problema en subproblemas más y más pequeños hasta llegar a un problema lo suficientemente pequeño que pueda resolverse trivialmente(fácilmente). Por lo general, la recursividad implica una función que se llama a si misma."
   ]
  },
  {
   "cell_type": "markdown",
   "metadata": {},
   "source": [
    "### Tipos de Recursividad"
   ]
  },
  {
   "cell_type": "markdown",
   "metadata": {},
   "source": [
    "#### Recursividad simple o directa:"
   ]
  },
  {
   "cell_type": "markdown",
   "metadata": {},
   "source": [
    "La función incluye una referencia explícita a si misma.\n",
    "Ejemplo:"
   ]
  },
  {
   "cell_type": "code",
   "execution_count": 5,
   "metadata": {},
   "outputs": [
    {
     "name": "stdout",
     "output_type": "stream",
     "text": [
      "21\n"
     ]
    }
   ],
   "source": [
    "#Serie de Fibonacci\n",
    "def fib(num):\n",
    "    if(num == 0 or num == 1):\n",
    "        return num\n",
    "    return fib(num-1) + fib(num-2)\n",
    "\n",
    "print(fib(8))"
   ]
  },
  {
   "cell_type": "markdown",
   "metadata": {},
   "source": [
    "#### Recursividad mutua o indirecta:"
   ]
  },
  {
   "cell_type": "markdown",
   "metadata": {},
   "source": [
    "Cuando una función puede llamar a una segunda función que a su vez llama a la primera. Ejemplo:"
   ]
  },
  {
   "cell_type": "code",
   "execution_count": 2,
   "metadata": {},
   "outputs": [
    {
     "name": "stdout",
     "output_type": "stream",
     "text": [
      "El numero es impar !\n"
     ]
    }
   ],
   "source": [
    "def par(n):\n",
    "    if n == 0:\n",
    "        return 1\n",
    "    else:\n",
    "        return impar(n - 1)\n",
    "\n",
    "\n",
    "def impar(n):\n",
    "    if n == 0:\n",
    "        return 0\n",
    "    else:\n",
    "        return par(n - 1)\n",
    "\n",
    "\n",
    "if par(55):\n",
    "    print(\"El numero es par !\")\n",
    "else:\n",
    "    print(\"El numero es impar !\")\n"
   ]
  },
  {
   "cell_type": "markdown",
   "metadata": {},
   "source": [
    "#### Recursividad lineal no final:"
   ]
  },
  {
   "cell_type": "markdown",
   "metadata": {},
   "source": [
    "El resultado de la llamada recursiva se combina en una expresión para dar lugar al resultado de la función que llama. Ejemplo:"
   ]
  },
  {
   "cell_type": "code",
   "execution_count": null,
   "metadata": {},
   "outputs": [],
   "source": [
    "def fact(n):\n",
    "    if (n == 0 or n == 1):\n",
    "        return 1\n",
    "    return n*fact(n-1)\n",
    "\n",
    "print(fact(5))"
   ]
  },
  {
   "cell_type": "markdown",
   "metadata": {},
   "source": [
    "#### Recursividad lineal final:"
   ]
  },
  {
   "cell_type": "markdown",
   "metadata": {},
   "source": [
    "El resultado que es devuelto es el resultado de ejecución de la última llamada recursiva. Ejemplo:"
   ]
  },
  {
   "cell_type": "code",
   "execution_count": null,
   "metadata": {},
   "outputs": [],
   "source": [
    "def mcd(n,m):\n",
    "    if(n==m):\n",
    "        return n\n",
    "    if(n>m):\n",
    "        return mcd(n-m,m)\n",
    "    return mcd(n,m-n)\n",
    "\n",
    "print(mcd(15,3))"
   ]
  },
  {
   "cell_type": "markdown",
   "metadata": {},
   "source": [
    "#### Función \"range\""
   ]
  },
  {
   "cell_type": "markdown",
   "metadata": {},
   "source": [
    "Genera automáticamente números dentro de un rango."
   ]
  },
  {
   "cell_type": "code",
   "execution_count": 1,
   "metadata": {},
   "outputs": [
    {
     "name": "stdout",
     "output_type": "stream",
     "text": [
      "1\n",
      "2\n",
      "3\n",
      "4\n"
     ]
    }
   ],
   "source": [
    "for n in range (1,5):\n",
    "    print (n)\n"
   ]
  },
  {
   "cell_type": "code",
   "execution_count": null,
   "metadata": {},
   "outputs": [],
   "source": []
  }
 ],
 "metadata": {
  "kernelspec": {
   "display_name": "Python 3",
   "language": "python",
   "name": "python3"
  },
  "language_info": {
   "codemirror_mode": {
    "name": "ipython",
    "version": 3
   },
   "file_extension": ".py",
   "mimetype": "text/x-python",
   "name": "python",
   "nbconvert_exporter": "python",
   "pygments_lexer": "ipython3",
   "version": "3.8.5"
  }
 },
 "nbformat": 4,
 "nbformat_minor": 4
}
